{
 "cells": [
  {
   "cell_type": "markdown",
   "id": "54e18222",
   "metadata": {},
   "source": [
    "A simple project that uses LSTM to predict Tesla stock price. A regression model is also included at the end to compare the performance."
   ]
  },
  {
   "cell_type": "markdown",
   "id": "88ee43aa",
   "metadata": {},
   "source": [
    "## Importing libraries"
   ]
  },
  {
   "cell_type": "code",
   "execution_count": 247,
   "id": "b72ddb45",
   "metadata": {},
   "outputs": [],
   "source": [
    "import numpy as np\n",
    "import pandas as pd\n",
    "import matplotlib.pyplot as plt\n",
    "import matplotlib\n",
    "from finta import TA\n",
    "from sklearn.metrics import mean_squared_error"
   ]
  },
  {
   "cell_type": "markdown",
   "id": "dfc3253e",
   "metadata": {},
   "source": [
    "## Get data"
   ]
  },
  {
   "cell_type": "code",
   "execution_count": 274,
   "id": "52bcc20b",
   "metadata": {},
   "outputs": [
    {
     "data": {
      "text/plain": [
       "(2874, 6)"
      ]
     },
     "execution_count": 274,
     "metadata": {},
     "output_type": "execute_result"
    }
   ],
   "source": [
    "df = pd.read_csv(\"data/TSLA.csv\", parse_dates=['Date'])\n",
    "# uncomment for multiple features\n",
    "df = df.drop([\"Adj Close\"],axis=1)\n",
    "# Uncomment for single feature\n",
    "#df = df.filter([\"Date\", \"Close\"])\n",
    "df.shape"
   ]
  },
  {
   "cell_type": "code",
   "execution_count": 249,
   "id": "e57c863f",
   "metadata": {},
   "outputs": [
    {
     "data": {
      "text/html": [
       "<div>\n",
       "<style scoped>\n",
       "    .dataframe tbody tr th:only-of-type {\n",
       "        vertical-align: middle;\n",
       "    }\n",
       "\n",
       "    .dataframe tbody tr th {\n",
       "        vertical-align: top;\n",
       "    }\n",
       "\n",
       "    .dataframe thead th {\n",
       "        text-align: right;\n",
       "    }\n",
       "</style>\n",
       "<table border=\"1\" class=\"dataframe\">\n",
       "  <thead>\n",
       "    <tr style=\"text-align: right;\">\n",
       "      <th></th>\n",
       "      <th>Date</th>\n",
       "      <th>Open</th>\n",
       "      <th>High</th>\n",
       "      <th>Low</th>\n",
       "      <th>Close</th>\n",
       "      <th>Volume</th>\n",
       "    </tr>\n",
       "  </thead>\n",
       "  <tbody>\n",
       "    <tr>\n",
       "      <th>0</th>\n",
       "      <td>2010-06-29</td>\n",
       "      <td>3.800</td>\n",
       "      <td>5.000</td>\n",
       "      <td>3.508</td>\n",
       "      <td>4.778</td>\n",
       "      <td>93831500</td>\n",
       "    </tr>\n",
       "    <tr>\n",
       "      <th>1</th>\n",
       "      <td>2010-06-30</td>\n",
       "      <td>5.158</td>\n",
       "      <td>6.084</td>\n",
       "      <td>4.660</td>\n",
       "      <td>4.766</td>\n",
       "      <td>85935500</td>\n",
       "    </tr>\n",
       "    <tr>\n",
       "      <th>2</th>\n",
       "      <td>2010-07-01</td>\n",
       "      <td>5.000</td>\n",
       "      <td>5.184</td>\n",
       "      <td>4.054</td>\n",
       "      <td>4.392</td>\n",
       "      <td>41094000</td>\n",
       "    </tr>\n",
       "    <tr>\n",
       "      <th>3</th>\n",
       "      <td>2010-07-02</td>\n",
       "      <td>4.600</td>\n",
       "      <td>4.620</td>\n",
       "      <td>3.742</td>\n",
       "      <td>3.840</td>\n",
       "      <td>25699000</td>\n",
       "    </tr>\n",
       "    <tr>\n",
       "      <th>4</th>\n",
       "      <td>2010-07-06</td>\n",
       "      <td>4.000</td>\n",
       "      <td>4.000</td>\n",
       "      <td>3.166</td>\n",
       "      <td>3.222</td>\n",
       "      <td>34334500</td>\n",
       "    </tr>\n",
       "  </tbody>\n",
       "</table>\n",
       "</div>"
      ],
      "text/plain": [
       "        Date   Open   High    Low  Close    Volume\n",
       "0 2010-06-29  3.800  5.000  3.508  4.778  93831500\n",
       "1 2010-06-30  5.158  6.084  4.660  4.766  85935500\n",
       "2 2010-07-01  5.000  5.184  4.054  4.392  41094000\n",
       "3 2010-07-02  4.600  4.620  3.742  3.840  25699000\n",
       "4 2010-07-06  4.000  4.000  3.166  3.222  34334500"
      ]
     },
     "execution_count": 249,
     "metadata": {},
     "output_type": "execute_result"
    }
   ],
   "source": [
    "df.head()"
   ]
  },
  {
   "cell_type": "code",
   "execution_count": 250,
   "id": "70d68935",
   "metadata": {},
   "outputs": [
    {
     "data": {
      "text/html": [
       "<div>\n",
       "<style scoped>\n",
       "    .dataframe tbody tr th:only-of-type {\n",
       "        vertical-align: middle;\n",
       "    }\n",
       "\n",
       "    .dataframe tbody tr th {\n",
       "        vertical-align: top;\n",
       "    }\n",
       "\n",
       "    .dataframe thead th {\n",
       "        text-align: right;\n",
       "    }\n",
       "</style>\n",
       "<table border=\"1\" class=\"dataframe\">\n",
       "  <thead>\n",
       "    <tr style=\"text-align: right;\">\n",
       "      <th></th>\n",
       "      <th>Date</th>\n",
       "      <th>Open</th>\n",
       "      <th>High</th>\n",
       "      <th>Low</th>\n",
       "      <th>Close</th>\n",
       "      <th>Volume</th>\n",
       "    </tr>\n",
       "  </thead>\n",
       "  <tbody>\n",
       "    <tr>\n",
       "      <th>2869</th>\n",
       "      <td>2021-11-18</td>\n",
       "      <td>1106.550049</td>\n",
       "      <td>1112.000000</td>\n",
       "      <td>1075.020020</td>\n",
       "      <td>1096.380005</td>\n",
       "      <td>20898900</td>\n",
       "    </tr>\n",
       "    <tr>\n",
       "      <th>2870</th>\n",
       "      <td>2021-11-19</td>\n",
       "      <td>1098.869995</td>\n",
       "      <td>1138.719971</td>\n",
       "      <td>1092.699951</td>\n",
       "      <td>1137.060059</td>\n",
       "      <td>21168000</td>\n",
       "    </tr>\n",
       "    <tr>\n",
       "      <th>2871</th>\n",
       "      <td>2021-11-22</td>\n",
       "      <td>1162.329956</td>\n",
       "      <td>1201.949951</td>\n",
       "      <td>1132.430054</td>\n",
       "      <td>1156.869995</td>\n",
       "      <td>33072500</td>\n",
       "    </tr>\n",
       "    <tr>\n",
       "      <th>2872</th>\n",
       "      <td>2021-11-23</td>\n",
       "      <td>1167.510010</td>\n",
       "      <td>1180.500000</td>\n",
       "      <td>1062.699951</td>\n",
       "      <td>1109.030029</td>\n",
       "      <td>36171700</td>\n",
       "    </tr>\n",
       "    <tr>\n",
       "      <th>2873</th>\n",
       "      <td>2021-11-24</td>\n",
       "      <td>1080.390015</td>\n",
       "      <td>1132.770020</td>\n",
       "      <td>1062.000000</td>\n",
       "      <td>1116.000000</td>\n",
       "      <td>22560200</td>\n",
       "    </tr>\n",
       "  </tbody>\n",
       "</table>\n",
       "</div>"
      ],
      "text/plain": [
       "           Date         Open         High          Low        Close    Volume\n",
       "2869 2021-11-18  1106.550049  1112.000000  1075.020020  1096.380005  20898900\n",
       "2870 2021-11-19  1098.869995  1138.719971  1092.699951  1137.060059  21168000\n",
       "2871 2021-11-22  1162.329956  1201.949951  1132.430054  1156.869995  33072500\n",
       "2872 2021-11-23  1167.510010  1180.500000  1062.699951  1109.030029  36171700\n",
       "2873 2021-11-24  1080.390015  1132.770020  1062.000000  1116.000000  22560200"
      ]
     },
     "execution_count": 250,
     "metadata": {},
     "output_type": "execute_result"
    }
   ],
   "source": [
    "df.tail()"
   ]
  },
  {
   "cell_type": "code",
   "execution_count": 251,
   "id": "50f7fa9e",
   "metadata": {},
   "outputs": [
    {
     "name": "stdout",
     "output_type": "stream",
     "text": [
      "<class 'pandas.core.frame.DataFrame'>\n",
      "RangeIndex: 2874 entries, 0 to 2873\n",
      "Data columns (total 6 columns):\n",
      " #   Column  Non-Null Count  Dtype         \n",
      "---  ------  --------------  -----         \n",
      " 0   Date    2874 non-null   datetime64[ns]\n",
      " 1   Open    2874 non-null   float64       \n",
      " 2   High    2874 non-null   float64       \n",
      " 3   Low     2874 non-null   float64       \n",
      " 4   Close   2874 non-null   float64       \n",
      " 5   Volume  2874 non-null   int64         \n",
      "dtypes: datetime64[ns](1), float64(4), int64(1)\n",
      "memory usage: 134.8 KB\n"
     ]
    }
   ],
   "source": [
    "df.info()"
   ]
  },
  {
   "cell_type": "markdown",
   "id": "58ab7a93",
   "metadata": {},
   "source": [
    "## Check missing values"
   ]
  },
  {
   "cell_type": "code",
   "execution_count": 252,
   "id": "4ad3acfe",
   "metadata": {},
   "outputs": [
    {
     "data": {
      "text/plain": [
       "Date      0\n",
       "Open      0\n",
       "High      0\n",
       "Low       0\n",
       "Close     0\n",
       "Volume    0\n",
       "dtype: int64"
      ]
     },
     "execution_count": 252,
     "metadata": {},
     "output_type": "execute_result"
    }
   ],
   "source": [
    "df.isnull().sum()"
   ]
  },
  {
   "cell_type": "markdown",
   "id": "72f7fd68",
   "metadata": {},
   "source": [
    "## Graph the data"
   ]
  },
  {
   "cell_type": "code",
   "execution_count": 253,
   "id": "d2984992",
   "metadata": {
    "scrolled": true
   },
   "outputs": [
    {
     "data": {
      "image/png": "[encoded data removed]",
      "text/plain": [
       "<Figure size 640x480 with 1 Axes>"
      ]
     },
     "metadata": {},
     "output_type": "display_data"
    }
   ],
   "source": [
    "# only showing the data from 2019\n",
    "mask = (df['Date'] > '2019-1-1')\n",
    "testDf = df.loc[mask]\n",
    "plt.plot(testDf[\"Date\"],testDf[\"Close\"])\n",
    "plt.xticks(rotation='vertical')\n",
    "plt.xlabel(\"Date\")\n",
    "plt.ylabel(\"Price\")\n",
    "plt.show()"
   ]
  },
  {
   "cell_type": "markdown",
   "id": "6d77391f",
   "metadata": {},
   "source": [
    "## Define training and testing datasets for LSTM"
   ]
  },
  {
   "cell_type": "code",
   "execution_count": 254,
   "id": "86f15ec0",
   "metadata": {},
   "outputs": [
    {
     "data": {
      "text/html": [
       "<div>\n",
       "<style scoped>\n",
       "    .dataframe tbody tr th:only-of-type {\n",
       "        vertical-align: middle;\n",
       "    }\n",
       "\n",
       "    .dataframe tbody tr th {\n",
       "        vertical-align: top;\n",
       "    }\n",
       "\n",
       "    .dataframe thead th {\n",
       "        text-align: right;\n",
       "    }\n",
       "</style>\n",
       "<table border=\"1\" class=\"dataframe\">\n",
       "  <thead>\n",
       "    <tr style=\"text-align: right;\">\n",
       "      <th></th>\n",
       "      <th>Date</th>\n",
       "      <th>Open</th>\n",
       "      <th>High</th>\n",
       "      <th>Low</th>\n",
       "      <th>Close</th>\n",
       "      <th>Volume</th>\n",
       "    </tr>\n",
       "  </thead>\n",
       "  <tbody>\n",
       "    <tr>\n",
       "      <th>2642</th>\n",
       "      <td>2020-12-24</td>\n",
       "      <td>642.98999</td>\n",
       "      <td>666.090027</td>\n",
       "      <td>641.000000</td>\n",
       "      <td>661.770020</td>\n",
       "      <td>22865600</td>\n",
       "    </tr>\n",
       "    <tr>\n",
       "      <th>2643</th>\n",
       "      <td>2020-12-28</td>\n",
       "      <td>674.51001</td>\n",
       "      <td>681.400024</td>\n",
       "      <td>660.799988</td>\n",
       "      <td>663.690002</td>\n",
       "      <td>32278600</td>\n",
       "    </tr>\n",
       "    <tr>\n",
       "      <th>2644</th>\n",
       "      <td>2020-12-29</td>\n",
       "      <td>661.00000</td>\n",
       "      <td>669.900024</td>\n",
       "      <td>655.000000</td>\n",
       "      <td>665.989990</td>\n",
       "      <td>22910800</td>\n",
       "    </tr>\n",
       "    <tr>\n",
       "      <th>2645</th>\n",
       "      <td>2020-12-30</td>\n",
       "      <td>672.00000</td>\n",
       "      <td>696.599976</td>\n",
       "      <td>668.359985</td>\n",
       "      <td>694.780029</td>\n",
       "      <td>42846000</td>\n",
       "    </tr>\n",
       "    <tr>\n",
       "      <th>2646</th>\n",
       "      <td>2020-12-31</td>\n",
       "      <td>699.98999</td>\n",
       "      <td>718.719971</td>\n",
       "      <td>691.119995</td>\n",
       "      <td>705.669983</td>\n",
       "      <td>49649900</td>\n",
       "    </tr>\n",
       "  </tbody>\n",
       "</table>\n",
       "</div>"
      ],
      "text/plain": [
       "           Date       Open        High         Low       Close    Volume\n",
       "2642 2020-12-24  642.98999  666.090027  641.000000  661.770020  22865600\n",
       "2643 2020-12-28  674.51001  681.400024  660.799988  663.690002  32278600\n",
       "2644 2020-12-29  661.00000  669.900024  655.000000  665.989990  22910800\n",
       "2645 2020-12-30  672.00000  696.599976  668.359985  694.780029  42846000\n",
       "2646 2020-12-31  699.98999  718.719971  691.119995  705.669983  49649900"
      ]
     },
     "execution_count": 254,
     "metadata": {},
     "output_type": "execute_result"
    }
   ],
   "source": [
    "trainMask = (df['Date'] < '2021-1-1')\n",
    "trainDataA = df[trainMask]\n",
    "trainDataA.tail()"
   ]
  },
  {
   "cell_type": "code",
   "execution_count": 255,
   "id": "e46a0736",
   "metadata": {},
   "outputs": [
    {
     "data": {
      "text/html": [
       "<div>\n",
       "<style scoped>\n",
       "    .dataframe tbody tr th:only-of-type {\n",
       "        vertical-align: middle;\n",
       "    }\n",
       "\n",
       "    .dataframe tbody tr th {\n",
       "        vertical-align: top;\n",
       "    }\n",
       "\n",
       "    .dataframe thead th {\n",
       "        text-align: right;\n",
       "    }\n",
       "</style>\n",
       "<table border=\"1\" class=\"dataframe\">\n",
       "  <thead>\n",
       "    <tr style=\"text-align: right;\">\n",
       "      <th></th>\n",
       "      <th>Date</th>\n",
       "      <th>Open</th>\n",
       "      <th>High</th>\n",
       "      <th>Low</th>\n",
       "      <th>Close</th>\n",
       "      <th>Volume</th>\n",
       "    </tr>\n",
       "  </thead>\n",
       "  <tbody>\n",
       "    <tr>\n",
       "      <th>2647</th>\n",
       "      <td>2021-01-04</td>\n",
       "      <td>719.460022</td>\n",
       "      <td>744.489990</td>\n",
       "      <td>717.190002</td>\n",
       "      <td>729.770020</td>\n",
       "      <td>48638200</td>\n",
       "    </tr>\n",
       "    <tr>\n",
       "      <th>2648</th>\n",
       "      <td>2021-01-05</td>\n",
       "      <td>723.659973</td>\n",
       "      <td>740.840027</td>\n",
       "      <td>719.200012</td>\n",
       "      <td>735.109985</td>\n",
       "      <td>32245200</td>\n",
       "    </tr>\n",
       "    <tr>\n",
       "      <th>2649</th>\n",
       "      <td>2021-01-06</td>\n",
       "      <td>758.489990</td>\n",
       "      <td>774.000000</td>\n",
       "      <td>749.099976</td>\n",
       "      <td>755.979980</td>\n",
       "      <td>44700000</td>\n",
       "    </tr>\n",
       "    <tr>\n",
       "      <th>2650</th>\n",
       "      <td>2021-01-07</td>\n",
       "      <td>777.630005</td>\n",
       "      <td>816.989990</td>\n",
       "      <td>775.200012</td>\n",
       "      <td>816.039978</td>\n",
       "      <td>51498900</td>\n",
       "    </tr>\n",
       "    <tr>\n",
       "      <th>2651</th>\n",
       "      <td>2021-01-08</td>\n",
       "      <td>856.000000</td>\n",
       "      <td>884.489990</td>\n",
       "      <td>838.390015</td>\n",
       "      <td>880.020020</td>\n",
       "      <td>75055500</td>\n",
       "    </tr>\n",
       "  </tbody>\n",
       "</table>\n",
       "</div>"
      ],
      "text/plain": [
       "           Date        Open        High         Low       Close    Volume\n",
       "2647 2021-01-04  719.460022  744.489990  717.190002  729.770020  48638200\n",
       "2648 2021-01-05  723.659973  740.840027  719.200012  735.109985  32245200\n",
       "2649 2021-01-06  758.489990  774.000000  749.099976  755.979980  44700000\n",
       "2650 2021-01-07  777.630005  816.989990  775.200012  816.039978  51498900\n",
       "2651 2021-01-08  856.000000  884.489990  838.390015  880.020020  75055500"
      ]
     },
     "execution_count": 255,
     "metadata": {},
     "output_type": "execute_result"
    }
   ],
   "source": [
    "testDataA = df[df[\"Date\"] >= \"2021-1-1\"]\n",
    "testDataA.head()"
   ]
  },
  {
   "cell_type": "code",
   "execution_count": 256,
   "id": "fa701081",
   "metadata": {},
   "outputs": [],
   "source": [
    "trainData = trainDataA.drop([\"Date\"], axis =1)\n",
    "testData = testDataA.drop([\"Date\"], axis = 1)"
   ]
  },
  {
   "cell_type": "markdown",
   "id": "f67be2bd",
   "metadata": {},
   "source": [
    "## Scale the data"
   ]
  },
  {
   "cell_type": "code",
   "execution_count": 257,
   "id": "d73c3d36",
   "metadata": {},
   "outputs": [],
   "source": [
    "# scale the features\n",
    "# https://towardsdatascience.com/what-and-why-behind-fit-transform-vs-transform-in-scikit-learn-78f915cf96fe\n",
    "from sklearn.preprocessing import MinMaxScaler\n",
    "scaler = MinMaxScaler()\n",
    "trainData = scaler.fit_transform(trainData)"
   ]
  },
  {
   "cell_type": "markdown",
   "id": "4044ba23",
   "metadata": {},
   "source": [
    "## Define x_train and y_train"
   ]
  },
  {
   "cell_type": "code",
   "execution_count": 258,
   "id": "c5efa670",
   "metadata": {},
   "outputs": [],
   "source": [
    "X_train = []\n",
    "y_train = []"
   ]
  },
  {
   "cell_type": "code",
   "execution_count": 259,
   "id": "1287301a",
   "metadata": {},
   "outputs": [],
   "source": [
    "# generate x & y_train with timestep 60\n",
    "for i in range(60, trainData.shape[0]):\n",
    "    # i not included here\n",
    "    X_train.append(trainData[i-60: i])\n",
    "    # change to i,0 if only 1 feature otherwise i, 3\n",
    "    y_train.append(trainData[i,3])"
   ]
  },
  {
   "cell_type": "code",
   "execution_count": 260,
   "id": "25ef0403",
   "metadata": {},
   "outputs": [
    {
     "data": {
      "text/plain": [
       "((2587, 60, 5), (2587,))"
      ]
     },
     "execution_count": 260,
     "metadata": {},
     "output_type": "execute_result"
    }
   ],
   "source": [
    "# Convert into np\n",
    "X_train, y_train = np.array(X_train), np.array(y_train)\n",
    "X_train.shape, y_train.shape"
   ]
  },
  {
   "cell_type": "markdown",
   "id": "af0c1957",
   "metadata": {},
   "source": [
    "## LSTM Model"
   ]
  },
  {
   "cell_type": "code",
   "execution_count": 261,
   "id": "8bf07974",
   "metadata": {},
   "outputs": [],
   "source": [
    "from tensorflow.keras import Sequential\n",
    "from tensorflow.keras.layers import Dense, LSTM, Dropout"
   ]
  },
  {
   "cell_type": "code",
   "execution_count": 262,
   "id": "d84aae48",
   "metadata": {},
   "outputs": [],
   "source": [
    "model = Sequential()\n",
    "# input + hidden\n",
    "# change to X_train.shape[1], 1 if single feature other wise ,5\n",
    "model.add(LSTM(128, return_sequences=True, input_shape= (X_train.shape[1], 5)))\n",
    "#model.add(Dropout(0.2))\n",
    "model.add(LSTM(64, activation=\"relu\"))\n",
    "# Testing different layers + dropout \n",
    "#model.add(Dropout(0.2))\n",
    "#model.add(LSTM(256, return_sequences=False, activation = \"relu\"))\n",
    "#model.add(Dropout(0.2))\n",
    "#model.add(LSTM(128, activation = \"relu\"))\n",
    "#model.add(Dropout(0.2))\n",
    "# output\n",
    "model.add(Dense(1))"
   ]
  },
  {
   "cell_type": "code",
   "execution_count": 263,
   "id": "d6f94d4c",
   "metadata": {},
   "outputs": [
    {
     "name": "stdout",
     "output_type": "stream",
     "text": [
      "Model: \"sequential_10\"\n",
      "_________________________________________________________________\n",
      " Layer (type)                Output Shape              Param #   \n",
      "=================================================================\n",
      " lstm_20 (LSTM)              (None, 60, 128)           68608     \n",
      "                                                                 \n",
      " lstm_21 (LSTM)              (None, 64)                49408     \n",
      "                                                                 \n",
      " dense_10 (Dense)            (None, 1)                 65        \n",
      "                                                                 \n",
      "=================================================================\n",
      "Total params: 118,081\n",
      "Trainable params: 118,081\n",
      "Non-trainable params: 0\n",
      "_________________________________________________________________\n"
     ]
    }
   ],
   "source": [
    "model.summary()"
   ]
  },
  {
   "cell_type": "code",
   "execution_count": 264,
   "id": "c2f7763e",
   "metadata": {},
   "outputs": [
    {
     "name": "stdout",
     "output_type": "stream",
     "text": [
      "Epoch 1/10\n",
      "81/81 [==============================] - 6s 45ms/step - loss: 0.0019\n",
      "Epoch 2/10\n",
      "81/81 [==============================] - 3s 41ms/step - loss: 2.9119e-04\n",
      "Epoch 3/10\n",
      "81/81 [==============================] - 3s 39ms/step - loss: 2.7853e-04\n",
      "Epoch 4/10\n",
      "81/81 [==============================] - 3s 41ms/step - loss: 2.6040e-04\n",
      "Epoch 5/10\n",
      "81/81 [==============================] - 3s 41ms/step - loss: 2.4497e-04\n",
      "Epoch 6/10\n",
      "81/81 [==============================] - 4s 43ms/step - loss: 2.5067e-04\n",
      "Epoch 7/10\n",
      "81/81 [==============================] - 3s 41ms/step - loss: 2.0655e-04\n",
      "Epoch 8/10\n",
      "81/81 [==============================] - 3s 42ms/step - loss: 2.0931e-04\n",
      "Epoch 9/10\n",
      "81/81 [==============================] - 3s 43ms/step - loss: 1.5706e-04\n",
      "Epoch 10/10\n",
      "81/81 [==============================] - 3s 42ms/step - loss: 1.6208e-04\n"
     ]
    },
    {
     "data": {
      "text/plain": [
       "<keras.callbacks.History at 0x7f8bc299c340>"
      ]
     },
     "execution_count": 264,
     "metadata": {},
     "output_type": "execute_result"
    }
   ],
   "source": [
    "# compile \n",
    "model.compile(optimizer='adam', loss='mean_squared_error')\n",
    "model.fit(X_train, y_train, epochs=10, batch_size=32)"
   ]
  },
  {
   "cell_type": "markdown",
   "id": "c50eaa23",
   "metadata": {},
   "source": [
    "## Define test data"
   ]
  },
  {
   "cell_type": "code",
   "execution_count": 265,
   "id": "b4ee73eb",
   "metadata": {},
   "outputs": [
    {
     "data": {
      "text/html": [
       "<div>\n",
       "<style scoped>\n",
       "    .dataframe tbody tr th:only-of-type {\n",
       "        vertical-align: middle;\n",
       "    }\n",
       "\n",
       "    .dataframe tbody tr th {\n",
       "        vertical-align: top;\n",
       "    }\n",
       "\n",
       "    .dataframe thead th {\n",
       "        text-align: right;\n",
       "    }\n",
       "</style>\n",
       "<table border=\"1\" class=\"dataframe\">\n",
       "  <thead>\n",
       "    <tr style=\"text-align: right;\">\n",
       "      <th></th>\n",
       "      <th>Date</th>\n",
       "      <th>Open</th>\n",
       "      <th>High</th>\n",
       "      <th>Low</th>\n",
       "      <th>Close</th>\n",
       "      <th>Volume</th>\n",
       "    </tr>\n",
       "  </thead>\n",
       "  <tbody>\n",
       "    <tr>\n",
       "      <th>2647</th>\n",
       "      <td>2021-01-04</td>\n",
       "      <td>719.460022</td>\n",
       "      <td>744.489990</td>\n",
       "      <td>717.190002</td>\n",
       "      <td>729.770020</td>\n",
       "      <td>48638200</td>\n",
       "    </tr>\n",
       "    <tr>\n",
       "      <th>2648</th>\n",
       "      <td>2021-01-05</td>\n",
       "      <td>723.659973</td>\n",
       "      <td>740.840027</td>\n",
       "      <td>719.200012</td>\n",
       "      <td>735.109985</td>\n",
       "      <td>32245200</td>\n",
       "    </tr>\n",
       "    <tr>\n",
       "      <th>2649</th>\n",
       "      <td>2021-01-06</td>\n",
       "      <td>758.489990</td>\n",
       "      <td>774.000000</td>\n",
       "      <td>749.099976</td>\n",
       "      <td>755.979980</td>\n",
       "      <td>44700000</td>\n",
       "    </tr>\n",
       "    <tr>\n",
       "      <th>2650</th>\n",
       "      <td>2021-01-07</td>\n",
       "      <td>777.630005</td>\n",
       "      <td>816.989990</td>\n",
       "      <td>775.200012</td>\n",
       "      <td>816.039978</td>\n",
       "      <td>51498900</td>\n",
       "    </tr>\n",
       "    <tr>\n",
       "      <th>2651</th>\n",
       "      <td>2021-01-08</td>\n",
       "      <td>856.000000</td>\n",
       "      <td>884.489990</td>\n",
       "      <td>838.390015</td>\n",
       "      <td>880.020020</td>\n",
       "      <td>75055500</td>\n",
       "    </tr>\n",
       "  </tbody>\n",
       "</table>\n",
       "</div>"
      ],
      "text/plain": [
       "           Date        Open        High         Low       Close    Volume\n",
       "2647 2021-01-04  719.460022  744.489990  717.190002  729.770020  48638200\n",
       "2648 2021-01-05  723.659973  740.840027  719.200012  735.109985  32245200\n",
       "2649 2021-01-06  758.489990  774.000000  749.099976  755.979980  44700000\n",
       "2650 2021-01-07  777.630005  816.989990  775.200012  816.039978  51498900\n",
       "2651 2021-01-08  856.000000  884.489990  838.390015  880.020020  75055500"
      ]
     },
     "execution_count": 265,
     "metadata": {},
     "output_type": "execute_result"
    }
   ],
   "source": [
    "testDataA.head()"
   ]
  },
  {
   "cell_type": "code",
   "execution_count": 266,
   "id": "04a52fea",
   "metadata": {},
   "outputs": [
    {
     "data": {
      "text/html": [
       "<div>\n",
       "<style scoped>\n",
       "    .dataframe tbody tr th:only-of-type {\n",
       "        vertical-align: middle;\n",
       "    }\n",
       "\n",
       "    .dataframe tbody tr th {\n",
       "        vertical-align: top;\n",
       "    }\n",
       "\n",
       "    .dataframe thead th {\n",
       "        text-align: right;\n",
       "    }\n",
       "</style>\n",
       "<table border=\"1\" class=\"dataframe\">\n",
       "  <thead>\n",
       "    <tr style=\"text-align: right;\">\n",
       "      <th></th>\n",
       "      <th>Open</th>\n",
       "      <th>High</th>\n",
       "      <th>Low</th>\n",
       "      <th>Close</th>\n",
       "      <th>Volume</th>\n",
       "    </tr>\n",
       "  </thead>\n",
       "  <tbody>\n",
       "    <tr>\n",
       "      <th>0</th>\n",
       "      <td>419.869995</td>\n",
       "      <td>429.899994</td>\n",
       "      <td>413.850006</td>\n",
       "      <td>425.299988</td>\n",
       "      <td>43127700</td>\n",
       "    </tr>\n",
       "    <tr>\n",
       "      <th>1</th>\n",
       "      <td>438.440002</td>\n",
       "      <td>439.000000</td>\n",
       "      <td>425.299988</td>\n",
       "      <td>425.920013</td>\n",
       "      <td>40421100</td>\n",
       "    </tr>\n",
       "    <tr>\n",
       "      <th>2</th>\n",
       "      <td>430.130005</td>\n",
       "      <td>434.589996</td>\n",
       "      <td>426.459991</td>\n",
       "      <td>434.000000</td>\n",
       "      <td>28925700</td>\n",
       "    </tr>\n",
       "    <tr>\n",
       "      <th>3</th>\n",
       "      <td>442.000000</td>\n",
       "      <td>448.739990</td>\n",
       "      <td>438.579987</td>\n",
       "      <td>442.299988</td>\n",
       "      <td>38791100</td>\n",
       "    </tr>\n",
       "    <tr>\n",
       "      <th>4</th>\n",
       "      <td>443.350006</td>\n",
       "      <td>448.890015</td>\n",
       "      <td>436.600006</td>\n",
       "      <td>446.649994</td>\n",
       "      <td>34463700</td>\n",
       "    </tr>\n",
       "  </tbody>\n",
       "</table>\n",
       "</div>"
      ],
      "text/plain": [
       "         Open        High         Low       Close    Volume\n",
       "0  419.869995  429.899994  413.850006  425.299988  43127700\n",
       "1  438.440002  439.000000  425.299988  425.920013  40421100\n",
       "2  430.130005  434.589996  426.459991  434.000000  28925700\n",
       "3  442.000000  448.739990  438.579987  442.299988  38791100\n",
       "4  443.350006  448.890015  436.600006  446.649994  34463700"
      ]
     },
     "execution_count": 266,
     "metadata": {},
     "output_type": "execute_result"
    }
   ],
   "source": [
    "# add the previous 60 days, we need it to predict \n",
    "prev_60 = trainDataA.tail(60)\n",
    "df = prev_60.append(testDataA, ignore_index = True)\n",
    "df = df.drop([\"Date\"], axis=1)\n",
    "df.head()"
   ]
  },
  {
   "cell_type": "code",
   "execution_count": 267,
   "id": "d0242fb3",
   "metadata": {},
   "outputs": [],
   "source": [
    "df = scaler.transform(df)"
   ]
  },
  {
   "cell_type": "code",
   "execution_count": 268,
   "id": "961baeed",
   "metadata": {},
   "outputs": [
    {
     "data": {
      "text/plain": [
       "((227, 60, 5), (227,))"
      ]
     },
     "execution_count": 268,
     "metadata": {},
     "output_type": "execute_result"
    }
   ],
   "source": [
    "X_test = []\n",
    "y_test = []\n",
    "\n",
    "for i in range(60, df.shape[0]):\n",
    "    X_test.append(df[i-60:i])\n",
    "    # change to i, 0 if single feature otherwise ,3\n",
    "    y_test.append(df[i, 0])\n",
    "\n",
    "X_test, y_test = np.array(X_test), np.array(y_test)\n",
    "X_test.shape, y_test.shape"
   ]
  },
  {
   "cell_type": "markdown",
   "id": "4ef31f73",
   "metadata": {},
   "source": [
    "## Predict"
   ]
  },
  {
   "cell_type": "code",
   "execution_count": 269,
   "id": "23a389f4",
   "metadata": {},
   "outputs": [
    {
     "data": {
      "text/plain": [
       "(227, 1)"
      ]
     },
     "execution_count": 269,
     "metadata": {},
     "output_type": "execute_result"
    }
   ],
   "source": [
    "y_pred = model.predict(X_test)\n",
    "y_pred.shape"
   ]
  },
  {
   "cell_type": "code",
   "execution_count": 270,
   "id": "95f18f3f",
   "metadata": {},
   "outputs": [
    {
     "data": {
      "text/plain": [
       "array([1.43521032e-03, 1.39783118e-03, 1.45322646e-03, 1.42346732e-03,\n",
       "       3.28837576e-09])"
      ]
     },
     "execution_count": 270,
     "metadata": {},
     "output_type": "execute_result"
    }
   ],
   "source": [
    "# invert scale, get the scale factor for our close column\n",
    "scaler.scale_"
   ]
  },
  {
   "cell_type": "code",
   "execution_count": 272,
   "id": "f370e82b",
   "metadata": {},
   "outputs": [
    {
     "data": {
      "text/plain": [
       "44.06415574235226"
      ]
     },
     "execution_count": 272,
     "metadata": {},
     "output_type": "execute_result"
    }
   ],
   "source": [
    "# invert the scale\n",
    "scale = 1/1.42346732e-03\n",
    "y_pred = y_pred*scale\n",
    "y_test = y_test*scale\n",
    "mean_squared_error(y_test, y_pred, squared=False)"
   ]
  },
  {
   "cell_type": "markdown",
   "id": "41e55c00",
   "metadata": {},
   "source": [
    "## Graph the results"
   ]
  },
  {
   "cell_type": "code",
   "execution_count": 273,
   "id": "0e9d920a",
   "metadata": {
    "scrolled": true
   },
   "outputs": [
    {
     "data": {
      "image/png": "[encoded data removed]",
      "text/plain": [
       "<Figure size 640x480 with 1 Axes>"
      ]
     },
     "metadata": {},
     "output_type": "display_data"
    }
   ],
   "source": [
    "plt.plot(y_test, color = \"green\", label=\"True value\")\n",
    "plt.plot(y_pred, color = \"orange\", label=\"Predicted value\")\n",
    "plt.title(\"Tesla Stock prediction\")\n",
    "plt.xlabel(\"Time\")\n",
    "plt.ylabel(\"Stock Price\")\n",
    "plt.legend()\n",
    "plt.show()"
   ]
  },
  {
   "cell_type": "markdown",
   "id": "49391383",
   "metadata": {},
   "source": [
    "## Let's try with a simple regression model from Sklearn\n",
    "Run Get Data (the second block) code before this"
   ]
  },
  {
   "cell_type": "code",
   "execution_count": 275,
   "id": "f2002903",
   "metadata": {},
   "outputs": [
    {
     "name": "stdout",
     "output_type": "stream",
     "text": [
      "We get the following RMSE\n"
     ]
    },
    {
     "data": {
      "text/plain": [
       "9.862444218304313"
      ]
     },
     "execution_count": 275,
     "metadata": {},
     "output_type": "execute_result"
    }
   ],
   "source": [
    "from sklearn.linear_model import LinearRegression\n",
    "from sklearn.linear_model import Ridge\n",
    "from sklearn.model_selection import train_test_split\n",
    "X = df.drop([\"Close\", \"Date\"],axis=1)\n",
    "y = df.filter([\"Close\"])\n",
    "X_train, X_test, y_train, y_test = train_test_split(X, y, test_size=0.07898399443, shuffle=False)\n",
    "\n",
    "\n",
    "# train and evaluate\n",
    "reg = LinearRegression().fit(X_train, y_train)\n",
    "#print(reg.coef_)\n",
    "print(\"We get the following RMSE\")\n",
    "y_pred = reg.predict(X_test)\n",
    "mean_squared_error(y_test, y_pred, squared=False)"
   ]
  },
  {
   "cell_type": "code",
   "execution_count": 276,
   "id": "7b3ad5d5",
   "metadata": {},
   "outputs": [
    {
     "data": {
      "image/png": "[encoded data removed]",
      "text/plain": [
       "<Figure size 640x480 with 1 Axes>"
      ]
     },
     "metadata": {},
     "output_type": "display_data"
    }
   ],
   "source": [
    "xAxis = [i for i in range(227)]\n",
    "plt.plot(xAxis, y_test, color = \"green\", label=\"True value\")\n",
    "plt.plot(xAxis, y_pred, color = \"orange\", label=\"Predicted value\")\n",
    "plt.title(\"LinearRegression\")\n",
    "plt.xlabel(\"Time\")\n",
    "plt.ylabel(\"Stock Price\")\n",
    "plt.legend()\n",
    "plt.show()"
   ]
  }
 ],
 "metadata": {
  "kernelspec": {
   "display_name": "Python 3",
   "language": "python",
   "name": "python3"
  },
  "language_info": {
   "codemirror_mode": {
    "name": "ipython",
    "version": 3
   },
   "file_extension": ".py",
   "mimetype": "text/x-python",
   "name": "python",
   "nbconvert_exporter": "python",
   "pygments_lexer": "ipython3",
   "version": "3.9.5"
  }
 },
 "nbformat": 4,
 "nbformat_minor": 5
}
